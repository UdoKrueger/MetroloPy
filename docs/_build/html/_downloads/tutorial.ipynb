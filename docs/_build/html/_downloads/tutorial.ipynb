{
 "cells": [
  {
   "cell_type": "markdown",
   "metadata": {},
   "source": [
    "# MetroloPy\n",
    "\n",
    "tools for dealing with physical quantities:  uncertainty propagation and unit conversion\n",
    "\n",
    "---"
   ]
  },
  {
   "cell_type": "markdown",
   "metadata": {},
   "source": [
    "## Table of Contents\n",
    "\n",
    "* [getting started](#getting-started)\n",
    "* [tutorial](#tutorial)\n",
    "    * [expressing physical quantities](#expressing-physical-quantities)\n",
    "    * [propagating uncertainty](#propagating-uncertainty)\n",
    "    * [Monte-Carlo uncertainty propagation](#Monte-Carlo-uncertainty-propagation)\n",
    "    * [expanded uncertainty](#expanded-uncertainty)\n",
    "    * [an uncertainty budget](#an-uncertainty-budget)\n",
    "    * [degrees of freedom and uncertainty types](#degrees-of-freedom-and-uncertainty-types)\n",
    "    * [units and mathematical operations](#units-and-mathematical-operations)\n",
    "    * [built-in and user defined units](#built-in-and-user-defined-units)\n",
    "    * [applying numerical functions to gummys](#applying-numerical-functions-to-gummys)\n",
    "    * [curve fitting](#curve-fitting)\n",
    "    * [creating correlated gummys](#creating-correlated-gummys)\n",
    "    * [formatting](#formatting)\n",
    "    * [floating point rounding errors](#floating-point-rounding-errors)"
   ]
  },
  {
   "cell_type": "markdown",
   "metadata": {},
   "source": [
    "## getting started\n",
    "\n",
    "MetroloPy is a pure python package and requires Python 3 and the [SciPy stack](https://www.scipy.org/) (NumPy, SciPy, Pandas, and IPython).  It looks best in a [Jupyter Notebook](https://jupyter.org/) like the one used to create this tutorial.\n",
    "\n",
    "Install MetroloPy with pip:\n",
    "\n",
    "```\n",
    "$ pip install metrolopy\n",
    "```\n",
    "\n",
    "See the [MetroloPy home page](http://nrc-cnrc.github.io/MetroloPy/) for the full documentation.\n",
    "\n",
    "---\n",
    "\n",
    "\n",
    "## tutorial\n",
    "\n",
    "\n",
    "### expressing physical quantities\n",
    "A gummy object represents a physical quantity with an uncertainty and (or) a unit:"
   ]
  },
  {
   "cell_type": "code",
   "execution_count": 1,
   "metadata": {
    "collapsed": false
   },
   "outputs": [],
   "source": [
    "import metrolopy as uc"
   ]
  },
  {
   "cell_type": "code",
   "execution_count": 2,
   "metadata": {
    "collapsed": false,
    "scrolled": true
   },
   "outputs": [
    {
     "data": {
      "text/html": [
       "<span>1.234(23)&nbsp;cm</span>"
      ],
      "text/plain": [
       "1.234(23) cm"
      ]
     },
     "execution_count": 2,
     "metadata": {},
     "output_type": "execute_result"
    }
   ],
   "source": [
    "side_a = uc.gummy(1.2345,u=0.0234,unit='cm')\n",
    "side_a"
   ]
  },
  {
   "cell_type": "markdown",
   "metadata": {},
   "source": [
    "By default concise notation is used when a gummy is printed, where the numbers in parentheses represent the uncertainty in the last digits of the value. There are many other ways that the uncertainty can be notated, for example:"
   ]
  },
  {
   "cell_type": "code",
   "execution_count": 3,
   "metadata": {
    "collapsed": false
   },
   "outputs": [
    {
     "data": {
      "text/html": [
       "<span>(1.234 &plusmn; 0.023)&nbsp;cm</span>"
      ],
      "text/plain": [
       "(1.234 ± 0.023) cm"
      ]
     },
     "execution_count": 3,
     "metadata": {},
     "output_type": "execute_result"
    }
   ],
   "source": [
    "side_a.style='+-'\n",
    "side_a"
   ]
  },
  {
   "cell_type": "markdown",
   "metadata": {},
   "source": [
    "or:"
   ]
  },
  {
   "cell_type": "code",
   "execution_count": 4,
   "metadata": {
    "collapsed": false
   },
   "outputs": [
    {
     "data": {
      "text/html": [
       "<span>1.234&nbsp;cm &plusmn; 234&nbsp;&mu;m</span>"
      ],
      "text/plain": [
       "1.234 cm ± 234 μm"
      ]
     },
     "execution_count": 4,
     "metadata": {},
     "output_type": "execute_result"
    }
   ],
   "source": [
    "side_a.uunit = 'um' # the uunit property sets the units on the uncertainty\n",
    "side_a"
   ]
  },
  {
   "cell_type": "markdown",
   "metadata": {},
   "source": [
    "or:"
   ]
  },
  {
   "cell_type": "code",
   "execution_count": 5,
   "metadata": {
    "collapsed": false
   },
   "outputs": [
    {
     "data": {
      "text/html": [
       "<span>1.234&nbsp;cm &plusmn; 1.9%</span>"
      ],
      "text/plain": [
       "1.234 cm ± 1.9%"
      ]
     },
     "execution_count": 5,
     "metadata": {},
     "output_type": "execute_result"
    }
   ],
   "source": [
    "side_a.uunit = '%'\n",
    "side_a"
   ]
  },
  {
   "cell_type": "markdown",
   "metadata": {},
   "source": [
    "### propagating uncertainty\n",
    "\n",
    "Gummys can be used in arbitrary formulas, propagating the uncertainties:"
   ]
  },
  {
   "cell_type": "code",
   "execution_count": 6,
   "metadata": {
    "collapsed": false
   },
   "outputs": [
    {
     "data": {
      "text/html": [
       "<span>3.03(17)&nbsp;mm</span>"
      ],
      "text/plain": [
       "3.03(17) mm"
      ]
     },
     "execution_count": 6,
     "metadata": {},
     "output_type": "execute_result"
    }
   ],
   "source": [
    "side_b = uc.gummy(3.034,u=0.174,unit='mm')\n",
    "side_b"
   ]
  },
  {
   "cell_type": "code",
   "execution_count": 7,
   "metadata": {
    "collapsed": false
   },
   "outputs": [
    {
     "data": {
      "text/html": [
       "<span>0.241(14)</span>"
      ],
      "text/plain": [
       "0.241(14)"
      ]
     },
     "execution_count": 7,
     "metadata": {},
     "output_type": "execute_result"
    }
   ],
   "source": [
    "angle = uc.arctan(side_b/side_a)\n",
    "angle"
   ]
  },
  {
   "cell_type": "code",
   "execution_count": 8,
   "metadata": {
    "collapsed": false,
    "scrolled": true
   },
   "outputs": [
    {
     "data": {
      "text/html": [
       "<span>13.81(80)°</span>"
      ],
      "text/plain": [
       "13.81(80)°"
      ]
     },
     "execution_count": 8,
     "metadata": {},
     "output_type": "execute_result"
    }
   ],
   "source": [
    "angle.convert('degree')"
   ]
  },
  {
   "cell_type": "markdown",
   "metadata": {},
   "source": [
    "Or another example:"
   ]
  },
  {
   "cell_type": "code",
   "execution_count": 9,
   "metadata": {
    "collapsed": false
   },
   "outputs": [
    {
     "data": {
      "text/html": [
       "<span>0.375(23)&nbsp;cm<sup>2</sup></span>"
      ],
      "text/plain": [
       "0.375(23) cm²"
      ]
     },
     "execution_count": 9,
     "metadata": {},
     "output_type": "execute_result"
    }
   ],
   "source": [
    "area = side_a*side_b\n",
    "area"
   ]
  },
  {
   "cell_type": "markdown",
   "metadata": {},
   "source": [
    "The gummys keep track of any correlations between values:"
   ]
  },
  {
   "cell_type": "code",
   "execution_count": 10,
   "metadata": {
    "collapsed": false
   },
   "outputs": [
    {
     "data": {
      "text/plain": [
       "0.80303611233768657"
      ]
     },
     "execution_count": 10,
     "metadata": {},
     "output_type": "execute_result"
    }
   ],
   "source": [
    "area.correlation(angle)"
   ]
  },
  {
   "cell_type": "markdown",
   "metadata": {},
   "source": [
    "Up to now we have assumed that the uncertainties are best modeled with a Normal probability distribution, but we can define a gummy with, say, a uniform probability distribution:"
   ]
  },
  {
   "cell_type": "code",
   "execution_count": 11,
   "metadata": {
    "collapsed": false
   },
   "outputs": [
    {
     "data": {
      "text/html": [
       "<span>0.934(55)&nbsp;N</span>"
      ],
      "text/plain": [
       "0.934(55) N"
      ]
     },
     "execution_count": 11,
     "metadata": {},
     "output_type": "execute_result"
    }
   ],
   "source": [
    "force = uc.gummy(uc.UniformDist(center=0.9345,half_width=0.096),unit='N')\n",
    "force"
   ]
  },
  {
   "cell_type": "markdown",
   "metadata": {},
   "source": [
    "And we can calculate:"
   ]
  },
  {
   "cell_type": "code",
   "execution_count": 12,
   "metadata": {
    "collapsed": false
   },
   "outputs": [
    {
     "data": {
      "text/html": [
       "<span>2.50(21)&nbsp;N/cm<sup>2</sup></span>"
      ],
      "text/plain": [
       "2.50(21) N/cm²"
      ]
     },
     "execution_count": 12,
     "metadata": {},
     "output_type": "execute_result"
    }
   ],
   "source": [
    "pressure = force/area\n",
    "pressure"
   ]
  },
  {
   "cell_type": "code",
   "execution_count": 13,
   "metadata": {
    "collapsed": false
   },
   "outputs": [
    {
     "data": {
      "text/html": [
       "<span>25.0(21)&nbsp;kPa</span>"
      ],
      "text/plain": [
       "25.0(21) kPa"
      ]
     },
     "execution_count": 13,
     "metadata": {},
     "output_type": "execute_result"
    }
   ],
   "source": [
    "pressure.unit = 'kPa'\n",
    "pressure"
   ]
  },
  {
   "cell_type": "markdown",
   "metadata": {},
   "source": [
    "### Monte-Carlo uncertainty propagation\n",
    "\n",
    "Above, gummy just took the standard deviation of the force probability distribution and then forgot about the shape and propagated the uncertainties assuming everything was Gaussian.  However we can also do a Monte-Carlo simulation using the actual probability distributions:"
   ]
  },
  {
   "cell_type": "code",
   "execution_count": 14,
   "metadata": {
    "collapsed": false
   },
   "outputs": [
    {
     "data": {
      "image/png": "[encoded data removed]",
      "text/plain": [
       "<matplotlib.figure.Figure at 0x4c3eba8>"
      ]
     },
     "metadata": {},
     "output_type": "display_data"
    },
    {
     "data": {
      "image/png": "[encoded data removed]",
      "text/plain": [
       "<matplotlib.figure.Figure at 0x5eada58>"
      ]
     },
     "metadata": {},
     "output_type": "display_data"
    },
    {
     "data": {
      "image/png": "[encoded data removed]",
      "text/plain": [
       "<matplotlib.figure.Figure at 0x14fc8518>"
      ]
     },
     "metadata": {},
     "output_type": "display_data"
    }
   ],
   "source": [
    "uc.gummy.simulate([area,force,pressure])  # generate Monte-Carlo data, default is 1e6 samples for each gummy\n",
    "\n",
    "area.name = 'Area'  #give the variables names for the plot\n",
    "area.p = 0.95  # put the reference lines in the histograms at a 95% confidence interval\n",
    "area.hist()  # create the histogram for a (we could have used a.hist(p=0.95) instead of a.p = 0.95 above)\n",
    "\n",
    "force.name = 'Force'\n",
    "force.p = 0.95\n",
    "force.cimethod = 'symmetric'  # The default method for calculating confidence intervals is \n",
    "                          # cimethod = 'shortest', the shortest interval with the desired \n",
    "                          # confidence level.  But this doesn't work well with a uniform distribution.\n",
    "force.hist()\n",
    "\n",
    "pressure.name = 'Pressure'\n",
    "pressure.p = 0.95\n",
    "pressure.name = 'P'\n",
    "pressure.hist()"
   ]
  },
  {
   "cell_type": "markdown",
   "metadata": {},
   "source": [
    "### expanded uncertainty\n",
    "\n",
    "When we did the first uncertainty propagation for pressure we just got the standard (1-sigma) uncertainty.  Lets convert that to an uncertainty with a 95% level of confidence (again assuming that everything is Normally distributed):"
   ]
  },
  {
   "cell_type": "code",
   "execution_count": 15,
   "metadata": {
    "collapsed": false
   },
   "outputs": [
    {
     "data": {
      "text/html": [
       "<i>P</i> = <span>25.0(41)&nbsp;kPa with a 95% level of confidence</span>"
      ],
      "text/plain": [
       "P = 25.0(41) kPa with a 95% level of confidence"
      ]
     },
     "execution_count": 15,
     "metadata": {},
     "output_type": "execute_result"
    }
   ],
   "source": [
    "pressure.p = 0.95 # pressure.k = 2 gives about the same result\n",
    "pressure"
   ]
  },
  {
   "cell_type": "markdown",
   "metadata": {},
   "source": [
    "So we do get a pretty good answer just assuming that everything is Normally distributed, but it is nice be able to check to be sure.  \n",
    "\n",
    "### an uncertainty budget\n",
    "Let's summarize the uncertainty budget in a table:"
   ]
  },
  {
   "cell_type": "code",
   "execution_count": 16,
   "metadata": {
    "collapsed": false
   },
   "outputs": [
    {
     "data": {
      "text/html": [
       "<div>\n",
       "<style>\n",
       ".budget_table {\n",
       "    display: table;\n",
       "}\n",
       "    \n",
       ".budget_row {\n",
       "    display: table-row;\n",
       "}\n",
       "\n",
       ".budget_header_row {\n",
       "    display: table-row;\n",
       "    font-weight: bold;\n",
       "}\n",
       "\n",
       ".budget_first_col_header_cell\n",
       "{\n",
       "    display: table-cell;\n",
       "    text-align: center;\n",
       "    border-bottom: solid;\n",
       "    border-width: thin;\n",
       "    padding-left: 5px;\n",
       "    padding-right: 5px;\n",
       "}\n",
       "\n",
       ".budget_header_cell {\n",
       "    display: table-cell;\n",
       "    text-align: center;\n",
       "    border-bottom: solid;\n",
       "    border-width: thin;\n",
       "    padding-left: 5px;\n",
       "    padding-right: 5px;\n",
       "    \n",
       "}\n",
       "\n",
       ".budget_first_col_x_cell {\n",
       "    display: table-cell;\n",
       "    text-align: center;\n",
       "    padding-left: 5px;\n",
       "    padding-right: 5px;\n",
       "    min-width: 8ex;\n",
       "}\n",
       "\n",
       ".budget_x_cell {\n",
       "    display: table-cell;\n",
       "    text-align: center;\n",
       "    padding-left: 5px;\n",
       "    padding-right: 5px;\n",
       "    min-width: 8ex;\n",
       "}\n",
       "</style>\n",
       "<div class=\"budget_table\">\n",
       "    <div class=\"budget_header_row\">\n",
       "        <div class = \"budget_header_cell\">Component</div>\n",
       "        <div class = \"budget_header_cell\">Value</div>\n",
       "        <div class = \"budget_header_cell\"><span><i>u</i></span></div>\n",
       "        <div class = \"budget_header_cell\">|<span>&part;<i>y</i>/&part;<i>x</i></span>|</div>\n",
       "        <div class = \"budget_header_cell\"><span><i>s</i></span></div>\n",
       "    </div>\n",
       "    <div class=\"budget_row\">\n",
       "        <div class=\"budget_first_col_x_cell\">Force</div>\n",
       "        <div class=\"budget_x_cell\">0.934&nbsp;N</div>\n",
       "        <div class=\"budget_x_cell\">0.055&nbsp;N</div>\n",
       "        <div class=\"budget_x_cell\">27</div>\n",
       "        <div class=\"budget_x_cell\">0.70</div>\n",
       "    </div>\n",
       "    <div class=\"budget_row\">\n",
       "        <div class=\"budget_first_col_x_cell\">Side B</div>\n",
       "        <div class=\"budget_x_cell\">3.03&nbsp;mm</div>\n",
       "        <div class=\"budget_x_cell\">0.17&nbsp;mm</div>\n",
       "        <div class=\"budget_x_cell\">8.2</div>\n",
       "        <div class=\"budget_x_cell\">0.68</div>\n",
       "    </div>\n",
       "    <div class=\"budget_row\">\n",
       "        <div class=\"budget_first_col_header_cell\">Side A</div>\n",
       "        <div class=\"budget_header_cell\">1.234&nbsp;cm</div>\n",
       "        <div class=\"budget_header_cell\">1.9%</div>\n",
       "        <div class=\"budget_header_cell\">20</div>\n",
       "        <div class=\"budget_header_cell\">0.22</div>\n",
       "    </div>\n",
       "    <div class=\"budget_row\">\n",
       "        <div class=\"budget_first_col_header_cell\"><span><i>P</i></span></div>\n",
       "        <div class=\"budget_header_cell\">25.0&nbsp;kPa</div>\n",
       "        <div class=\"budget_header_cell\">2.1&nbsp;kPa</div>\n",
       "        <div class=\"budget_header_cell\">  </div>\n",
       "        <div class=\"budget_header_cell\">  </div>\n",
       "    </div>\n",
       "    <div class=\"budget_row\">\n",
       "        <div class=\"budget_first_col_x_cell\"><span><i>U<sub>c<sub></i> at <i>k</i> = 2.0</span></div>\n",
       "        <div class=\"budget_x_cell\">  </div>\n",
       "        <div class=\"budget_x_cell\">4.1&nbsp;kPa</div>\n",
       "        <div class=\"budget_x_cell\">  </div>\n",
       "        <div class=\"budget_x_cell\">  </div>\n",
       "    </div>\n",
       "</div>\n",
       "</div>"
      ],
      "text/plain": [
       "Component     Value        u |dy/dx|     s\n",
       "        Force   0.934 N  0.055 N      27  0.70\n",
       "       Side B   3.03 mm  0.17 mm     8.2  0.68\n",
       "       Side A  1.234 cm     1.9%      20  0.22\n",
       "            P  25.0 kPa  2.1 kPa              \n",
       "Uc at k = 2.0            4.1 kPa"
      ]
     },
     "execution_count": 16,
     "metadata": {},
     "output_type": "execute_result"
    }
   ],
   "source": [
    "side_a.name = 'Side A' # define names for the table listing\n",
    "side_b.name = 'Side B'\n",
    "pressure.budget([side_a,side_b,force])"
   ]
  },
  {
   "cell_type": "markdown",
   "metadata": {},
   "source": [
    "Maybe you prefer relative uncertainties in the table:"
   ]
  },
  {
   "cell_type": "code",
   "execution_count": 17,
   "metadata": {
    "collapsed": false
   },
   "outputs": [
    {
     "data": {
      "text/html": [
       "<div>\n",
       "<style>\n",
       ".budget_table {\n",
       "    display: table;\n",
       "}\n",
       "    \n",
       ".budget_row {\n",
       "    display: table-row;\n",
       "}\n",
       "\n",
       ".budget_header_row {\n",
       "    display: table-row;\n",
       "    font-weight: bold;\n",
       "}\n",
       "\n",
       ".budget_first_col_header_cell\n",
       "{\n",
       "    display: table-cell;\n",
       "    text-align: center;\n",
       "    border-bottom: solid;\n",
       "    border-width: thin;\n",
       "    padding-left: 5px;\n",
       "    padding-right: 5px;\n",
       "}\n",
       "\n",
       ".budget_header_cell {\n",
       "    display: table-cell;\n",
       "    text-align: center;\n",
       "    border-bottom: solid;\n",
       "    border-width: thin;\n",
       "    padding-left: 5px;\n",
       "    padding-right: 5px;\n",
       "    \n",
       "}\n",
       "\n",
       ".budget_first_col_x_cell {\n",
       "    display: table-cell;\n",
       "    text-align: center;\n",
       "    padding-left: 5px;\n",
       "    padding-right: 5px;\n",
       "    min-width: 8ex;\n",
       "}\n",
       "\n",
       ".budget_x_cell {\n",
       "    display: table-cell;\n",
       "    text-align: center;\n",
       "    padding-left: 5px;\n",
       "    padding-right: 5px;\n",
       "    min-width: 8ex;\n",
       "}\n",
       "</style>\n",
       "<div class=\"budget_table\">\n",
       "    <div class=\"budget_header_row\">\n",
       "        <div class = \"budget_header_cell\">Component</div>\n",
       "        <div class = \"budget_header_cell\">Unit</div>\n",
       "        <div class = \"budget_header_cell\">Value</div>\n",
       "        <div class = \"budget_header_cell\"><span><i>u</i>&thinsp;/&thinsp;%</span></div>\n",
       "        <div class = \"budget_header_cell\">|<span>&part;<i>y</i>/&part;<i>x</i></span>|</div>\n",
       "        <div class = \"budget_header_cell\"><span><i>s</i></span></div>\n",
       "    </div>\n",
       "    <div class=\"budget_row\">\n",
       "        <div class=\"budget_first_col_x_cell\">Force</div>\n",
       "        <div class=\"budget_x_cell\">N</div>\n",
       "        <div class=\"budget_x_cell\">0.934</div>\n",
       "        <div class=\"budget_x_cell\">5.9</div>\n",
       "        <div class=\"budget_x_cell\">27</div>\n",
       "        <div class=\"budget_x_cell\">0.70</div>\n",
       "    </div>\n",
       "    <div class=\"budget_row\">\n",
       "        <div class=\"budget_first_col_x_cell\">Side B</div>\n",
       "        <div class=\"budget_x_cell\">mm</div>\n",
       "        <div class=\"budget_x_cell\">3.03</div>\n",
       "        <div class=\"budget_x_cell\">5.7</div>\n",
       "        <div class=\"budget_x_cell\">8.2</div>\n",
       "        <div class=\"budget_x_cell\">0.68</div>\n",
       "    </div>\n",
       "    <div class=\"budget_row\">\n",
       "        <div class=\"budget_first_col_header_cell\">Side A</div>\n",
       "        <div class=\"budget_header_cell\">cm</div>\n",
       "        <div class=\"budget_header_cell\">1.234</div>\n",
       "        <div class=\"budget_header_cell\">1.9</div>\n",
       "        <div class=\"budget_header_cell\">20</div>\n",
       "        <div class=\"budget_header_cell\">0.22</div>\n",
       "    </div>\n",
       "    <div class=\"budget_row\">\n",
       "        <div class=\"budget_first_col_header_cell\"><span><i>P</i></span></div>\n",
       "        <div class=\"budget_header_cell\">kPa</div>\n",
       "        <div class=\"budget_header_cell\">25.0</div>\n",
       "        <div class=\"budget_header_cell\">2.1</div>\n",
       "        <div class=\"budget_header_cell\">  </div>\n",
       "        <div class=\"budget_header_cell\">  </div>\n",
       "    </div>\n",
       "    <div class=\"budget_row\">\n",
       "        <div class=\"budget_first_col_x_cell\"><span><i>U<sub>c<sub></i> at <i>k</i> = 2.0</span></div>\n",
       "        <div class=\"budget_x_cell\">kPa</div>\n",
       "        <div class=\"budget_x_cell\">  </div>\n",
       "        <div class=\"budget_x_cell\">17</div>\n",
       "        <div class=\"budget_x_cell\">  </div>\n",
       "        <div class=\"budget_x_cell\">  </div>\n",
       "    </div>\n",
       "</div>\n",
       "</div>"
      ],
      "text/plain": [
       "Component Unit  Value u / % |dy/dx|     s\n",
       "        Force    N  0.934   5.9      27  0.70\n",
       "       Side B   mm   3.03   5.7     8.2  0.68\n",
       "       Side A   cm  1.234   1.9      20  0.22\n",
       "            P  kPa   25.0   2.1              \n",
       "Uc at k = 2.0  kPa           17"
      ]
     },
     "execution_count": 17,
     "metadata": {},
     "output_type": "execute_result"
    }
   ],
   "source": [
    "pressure.budget([side_a,side_b,force],uunit='%')"
   ]
  },
  {
   "cell_type": "markdown",
   "metadata": {},
   "source": [
    "### degrees of freedom and uncertainty types\n",
    "\n",
    "gummy can also keep track of the effective number of degrees of freedom that the uncertainty is based on and group uncertainties into different types:"
   ]
  },
  {
   "cell_type": "code",
   "execution_count": 18,
   "metadata": {
    "collapsed": false
   },
   "outputs": [
    {
     "data": {
      "text/html": [
       "distance = <span>3.46(12)&nbsp;m with <i>&nu;</i>&nbsp;=&nbsp;6</span>"
      ],
      "text/plain": [
       "distance = 3.46(12) m with 6 degrees of freedom"
      ]
     },
     "execution_count": 18,
     "metadata": {},
     "output_type": "execute_result"
    }
   ],
   "source": [
    "# dof is degrees of freedom and\n",
    "# utype is an arbitrary lable for the uncertainty type\n",
    "distance = uc.gummy(3.4567,0.12,dof=6,unit='m',utype='A',name='distance') \n",
    "distance"
   ]
  },
  {
   "cell_type": "code",
   "execution_count": 19,
   "metadata": {
    "collapsed": false
   },
   "outputs": [
    {
     "data": {
      "text/html": [
       "velocity = <span>0.778(48)&nbsp;m/s with <i>&nu;</i>&nbsp;=&nbsp;8.2</span>"
      ],
      "text/plain": [
       "velocity = 0.778(48) m/s with 8.2 degrees of freedom"
      ]
     },
     "execution_count": 19,
     "metadata": {},
     "output_type": "execute_result"
    }
   ],
   "source": [
    "time_B = uc.gummy(4.4444,0.05,unit='s',utype='B',name='time')\n",
    "time_A = uc.gummy(0,0.22,dof=4,unit='s',utype='A',name='time')\n",
    "time = time_A + time_B\n",
    "\n",
    "velocity = distance/time\n",
    "velocity.name = 'velocity'\n",
    "velocity"
   ]
  },
  {
   "cell_type": "code",
   "execution_count": 20,
   "metadata": {
    "collapsed": false
   },
   "outputs": [
    {
     "data": {
      "text/html": [
       "velocity = <span>0.778(47)(9)&nbsp;m/s</span>"
      ],
      "text/plain": [
       "velocity = 0.778(47)(9) m/s"
      ]
     },
     "execution_count": 20,
     "metadata": {},
     "output_type": "execute_result"
    }
   ],
   "source": [
    "velocity.ubreakdown=['A','B']\n",
    "velocity.show_dof = False\n",
    "velocity"
   ]
  },
  {
   "cell_type": "code",
   "execution_count": 21,
   "metadata": {
    "collapsed": false
   },
   "outputs": [
    {
     "data": {
      "text/html": [
       "<div>\n",
       "<style>\n",
       ".budget_table {\n",
       "    display: table;\n",
       "}\n",
       "    \n",
       ".budget_row {\n",
       "    display: table-row;\n",
       "}\n",
       "\n",
       ".budget_header_row {\n",
       "    display: table-row;\n",
       "    font-weight: bold;\n",
       "}\n",
       "\n",
       ".budget_first_col_header_cell\n",
       "{\n",
       "    display: table-cell;\n",
       "    text-align: center;\n",
       "    border-bottom: solid;\n",
       "    border-width: thin;\n",
       "    padding-left: 5px;\n",
       "    padding-right: 5px;\n",
       "}\n",
       "\n",
       ".budget_header_cell {\n",
       "    display: table-cell;\n",
       "    text-align: center;\n",
       "    border-bottom: solid;\n",
       "    border-width: thin;\n",
       "    padding-left: 5px;\n",
       "    padding-right: 5px;\n",
       "    \n",
       "}\n",
       "\n",
       ".budget_first_col_x_cell {\n",
       "    display: table-cell;\n",
       "    text-align: center;\n",
       "    padding-left: 5px;\n",
       "    padding-right: 5px;\n",
       "    min-width: 8ex;\n",
       "}\n",
       "\n",
       ".budget_x_cell {\n",
       "    display: table-cell;\n",
       "    text-align: center;\n",
       "    padding-left: 5px;\n",
       "    padding-right: 5px;\n",
       "    min-width: 8ex;\n",
       "}\n",
       "</style>\n",
       "<div class=\"budget_table\">\n",
       "    <div class=\"budget_header_row\">\n",
       "        <div class = \"budget_header_cell\">Component</div>\n",
       "        <div class = \"budget_header_cell\">Unit</div>\n",
       "        <div class = \"budget_header_cell\">Value</div>\n",
       "        <div class = \"budget_header_cell\"><span><i>u</i></span></div>\n",
       "        <div class = \"budget_header_cell\"><span><i>&nu;<sub>eff</sub></i></span></div>\n",
       "        <div class = \"budget_header_cell\">Type</div>\n",
       "        <div class = \"budget_header_cell\">|<span>&part;<i>y</i>/&part;<i>x</i></span>|</div>\n",
       "        <div class = \"budget_header_cell\"><span><i>s</i></span></div>\n",
       "    </div>\n",
       "    <div class=\"budget_row\">\n",
       "        <div class=\"budget_first_col_x_cell\">time</div>\n",
       "        <div class=\"budget_x_cell\">s</div>\n",
       "        <div class=\"budget_x_cell\">0.00</div>\n",
       "        <div class=\"budget_x_cell\">0.22</div>\n",
       "        <div class=\"budget_x_cell\">4</div>\n",
       "        <div class=\"budget_x_cell\">A</div>\n",
       "        <div class=\"budget_x_cell\">0.17</div>\n",
       "        <div class=\"budget_x_cell\">0.80</div>\n",
       "    </div>\n",
       "    <div class=\"budget_row\">\n",
       "        <div class=\"budget_first_col_x_cell\">distance</div>\n",
       "        <div class=\"budget_x_cell\">m</div>\n",
       "        <div class=\"budget_x_cell\">3.46</div>\n",
       "        <div class=\"budget_x_cell\">0.12</div>\n",
       "        <div class=\"budget_x_cell\">6</div>\n",
       "        <div class=\"budget_x_cell\">A</div>\n",
       "        <div class=\"budget_x_cell\">0.23</div>\n",
       "        <div class=\"budget_x_cell\">0.56</div>\n",
       "    </div>\n",
       "    <div class=\"budget_row\">\n",
       "        <div class=\"budget_first_col_header_cell\">time</div>\n",
       "        <div class=\"budget_header_cell\">s</div>\n",
       "        <div class=\"budget_header_cell\">4.444</div>\n",
       "        <div class=\"budget_header_cell\">0.050</div>\n",
       "        <div class=\"budget_header_cell\">&infin;</div>\n",
       "        <div class=\"budget_header_cell\">B</div>\n",
       "        <div class=\"budget_header_cell\">0.17</div>\n",
       "        <div class=\"budget_header_cell\">0.18</div>\n",
       "    </div>\n",
       "    <div class=\"budget_row\">\n",
       "        <div class=\"budget_first_col_x_cell\"><span><i>u<sub>c</sub></i> type A</div>\n",
       "        <div class=\"budget_x_cell\">m/s</div>\n",
       "        <div class=\"budget_x_cell\">  </div>\n",
       "        <div class=\"budget_x_cell\">0.047</div>\n",
       "        <div class=\"budget_x_cell\">7.7</div>\n",
       "        <div class=\"budget_x_cell\">A</div>\n",
       "        <div class=\"budget_x_cell\">  </div>\n",
       "        <div class=\"budget_x_cell\">0.98</div>\n",
       "    </div>\n",
       "    <div class=\"budget_row\">\n",
       "        <div class=\"budget_first_col_header_cell\"><span><i>u<sub>c</sub></i> type B</div>\n",
       "        <div class=\"budget_header_cell\">m/s</div>\n",
       "        <div class=\"budget_header_cell\">  </div>\n",
       "        <div class=\"budget_header_cell\">0.0087</div>\n",
       "        <div class=\"budget_header_cell\">&infin;</div>\n",
       "        <div class=\"budget_header_cell\">B</div>\n",
       "        <div class=\"budget_header_cell\">  </div>\n",
       "        <div class=\"budget_header_cell\">0.18</div>\n",
       "    </div>\n",
       "    <div class=\"budget_row\">\n",
       "        <div class=\"budget_first_col_x_cell\">velocity</div>\n",
       "        <div class=\"budget_x_cell\">m/s</div>\n",
       "        <div class=\"budget_x_cell\">0.778</div>\n",
       "        <div class=\"budget_x_cell\">0.048</div>\n",
       "        <div class=\"budget_x_cell\">8.2</div>\n",
       "        <div class=\"budget_x_cell\">  </div>\n",
       "        <div class=\"budget_x_cell\">  </div>\n",
       "        <div class=\"budget_x_cell\">  </div>\n",
       "    </div>\n",
       "</div>\n",
       "</div>"
      ],
      "text/plain": [
       "Component Unit  Value       u  DoF Type |dy/dx|     s\n",
       "           time    s   0.00    0.22    4    A    0.17  0.80\n",
       "       distance    m   3.46    0.12    6    A    0.23  0.56\n",
       "           time    s  4.444   0.050    ∞    B    0.17  0.18\n",
       "Combined type A  m/s          0.047  7.7    A          0.98\n",
       "Combined type B  m/s         0.0087    ∞    B          0.18\n",
       "       velocity  m/s  0.778   0.048  8.2"
      ]
     },
     "execution_count": 21,
     "metadata": {},
     "output_type": "execute_result"
    }
   ],
   "source": [
    "velocity.budget([distance,time_A,time_B])"
   ]
  },
  {
   "cell_type": "markdown",
   "metadata": {},
   "source": [
    "### units and mathematical operations\n",
    "\n",
    "During mathematical operations, gummys will automatically convert units if necessary:"
   ]
  },
  {
   "cell_type": "code",
   "execution_count": 22,
   "metadata": {
    "collapsed": false
   },
   "outputs": [
    {
     "data": {
      "text/html": [
       "6.534&nbsp;cm"
      ],
      "text/plain": [
       "6.534 cm"
      ]
     },
     "execution_count": 22,
     "metadata": {},
     "output_type": "execute_result"
    }
   ],
   "source": [
    "x = uc.gummy(1.2,unit='cm')\n",
    "y = uc.gummy(2.1,unit='in')\n",
    "x + y"
   ]
  },
  {
   "cell_type": "code",
   "execution_count": 23,
   "metadata": {
    "collapsed": false
   },
   "outputs": [
    {
     "data": {
      "text/html": [
       "6.4008&nbsp;cm<sup>2</sup>"
      ],
      "text/plain": [
       "6.4008 cm²"
      ]
     },
     "execution_count": 23,
     "metadata": {},
     "output_type": "execute_result"
    }
   ],
   "source": [
    "x*y"
   ]
  },
  {
   "cell_type": "markdown",
   "metadata": {},
   "source": [
    "Use the c flag to control the unit conversion.  Put the .c property on the unit that you want converted:"
   ]
  },
  {
   "cell_type": "code",
   "execution_count": 24,
   "metadata": {
    "collapsed": false
   },
   "outputs": [
    {
     "data": {
      "text/html": [
       "2.572&thinsp;440&thinsp;944&thinsp;881&thinsp;89&nbsp;in"
      ],
      "text/plain": [
       "2.572 440 944 881 89 in"
      ]
     },
     "execution_count": 24,
     "metadata": {},
     "output_type": "execute_result"
    }
   ],
   "source": [
    "x.c + y"
   ]
  },
  {
   "cell_type": "code",
   "execution_count": 25,
   "metadata": {
    "collapsed": false
   },
   "outputs": [
    {
     "data": {
      "text/html": [
       "0.992&thinsp;125&thinsp;984&thinsp;251&thinsp;968&thinsp;5&nbsp;in<sup>2</sup>"
      ],
      "text/plain": [
       "0.992 125 984 251 968 5 in²"
      ]
     },
     "execution_count": 25,
     "metadata": {},
     "output_type": "execute_result"
    }
   ],
   "source": [
    "x.c*y"
   ]
  },
  {
   "cell_type": "markdown",
   "metadata": {},
   "source": [
    "Nonlinear units (e.g. the decibel) or units with a offset origin may affect the way gummys behave under mathematical operations:"
   ]
  },
  {
   "cell_type": "code",
   "execution_count": 26,
   "metadata": {
    "collapsed": false
   },
   "outputs": [
    {
     "data": {
      "text/html": [
       "8&nbsp;°C"
      ],
      "text/plain": [
       "8 °C"
      ]
     },
     "execution_count": 26,
     "metadata": {},
     "output_type": "execute_result"
    }
   ],
   "source": [
    "t1 = uc.gummy(27,unit='degC')\n",
    "t2 = uc.gummy(19,unit='degC')\n",
    "difference = t1 - t2  # t1 + t2 will raise an exception\n",
    "difference"
   ]
  },
  {
   "cell_type": "markdown",
   "metadata": {},
   "source": [
    "The difference looks like it has units degree Celsius, however gummy understands that it represents a temperature interval:"
   ]
  },
  {
   "cell_type": "code",
   "execution_count": 27,
   "metadata": {
    "collapsed": false
   },
   "outputs": [
    {
     "data": {
      "text/plain": [
       "'degree Celsius interval'"
      ]
     },
     "execution_count": 27,
     "metadata": {},
     "output_type": "execute_result"
    }
   ],
   "source": [
    "difference.unit.name"
   ]
  },
  {
   "cell_type": "code",
   "execution_count": 28,
   "metadata": {
    "collapsed": false
   },
   "outputs": [
    {
     "data": {
      "text/html": [
       "8&nbsp;K"
      ],
      "text/plain": [
       "8 K"
      ]
     },
     "execution_count": 28,
     "metadata": {},
     "output_type": "execute_result"
    }
   ],
   "source": [
    "difference.convert('K')"
   ]
  },
  {
   "cell_type": "markdown",
   "metadata": {},
   "source": [
    "This is different from, say `t1` defined above:"
   ]
  },
  {
   "cell_type": "code",
   "execution_count": 29,
   "metadata": {
    "collapsed": false
   },
   "outputs": [
    {
     "data": {
      "text/plain": [
       "'degree Celsius'"
      ]
     },
     "execution_count": 29,
     "metadata": {},
     "output_type": "execute_result"
    }
   ],
   "source": [
    "t1.unit.name"
   ]
  },
  {
   "cell_type": "code",
   "execution_count": 30,
   "metadata": {
    "collapsed": false
   },
   "outputs": [
    {
     "data": {
      "text/html": [
       "300.15&nbsp;K"
      ],
      "text/plain": [
       "300.15 K"
      ]
     },
     "execution_count": 30,
     "metadata": {},
     "output_type": "execute_result"
    }
   ],
   "source": [
    "t1.convert('K')"
   ]
  },
  {
   "cell_type": "markdown",
   "metadata": {},
   "source": [
    "### built-in and user defined units\n",
    "\n",
    "A number of units are built into gummy.  Use the search_units function to search them:"
   ]
  },
  {
   "cell_type": "code",
   "execution_count": 31,
   "metadata": {
    "collapsed": false
   },
   "outputs": [
    {
     "data": {
      "text/html": [
       "<ul>\n",
       "<li>angstrom, 1&nbsp;&#8491;&nbsp;=&nbsp;1 &times; 10<sup>-10</sup>&nbsp;m, alias: Å</li>\n",
       "<li>astronomical unit, 1&nbsp;au&nbsp;=&nbsp;1.495&thinsp;978&thinsp;707 &times; 10<sup>11</sup>&nbsp;m, aliases: au, ua</li>\n",
       "<li>bohr, 1&nbsp;<i>a</i><sub>0</sub>&nbsp;=&nbsp;<span>5.291&thinsp;772&thinsp;106&thinsp;8(12) &times; 10<sup>-11</sup>&nbsp;m</span>, aliases: a0, a(0)</li>\n",
       "<li>cable, 1&nbsp;cb&nbsp;=&nbsp;120&nbsp;ftm, alias: cb</li>\n",
       "<li>chain, 1&nbsp;ch&nbsp;=&nbsp;4&nbsp;rd, alias: ch</li>\n",
       "<li>fathom, 1&nbsp;ftm&nbsp;=&nbsp;2&nbsp;yd, alias: ftm</li>\n",
       "<li>foot, 1&nbsp;ft&nbsp;=&nbsp;12&nbsp;in, alias: ft</li>\n",
       "<li>furlong, 1&nbsp;fur&nbsp;=&nbsp;10&nbsp;ch, alias: fur</li>\n",
       "<li>hand, 1&nbsp;hand&nbsp;=&nbsp;4&nbsp;in</li>\n",
       "<li>inch (1 prefix), 1&nbsp;in&nbsp;=&nbsp;0.0254&nbsp;m, alias: in</li>\n",
       "<li>league, 1&nbsp;lea&nbsp;=&nbsp;3&nbsp;mi, alias: lea</li>\n",
       "<li>light hour, 1&nbsp;light-hour&nbsp;=&nbsp;1&nbsp;h&thinsp;<i>c</i>, alias: light-hour</li>\n",
       "<li>light minute, 1&nbsp;light-minute&nbsp;=&nbsp;1&nbsp;min&thinsp;<i>c</i>, alias: light-minute</li>\n",
       "<li>light second, 1&nbsp;light-second&nbsp;=&nbsp;1&nbsp;<i>c</i>&thinsp;s, alias: light-second</li>\n",
       "<li>light year, 1&nbsp;ly&nbsp;=&nbsp;1&nbsp;a&thinsp;<i>c</i>, alias: ly</li>\n",
       "<li>link, 1&nbsp;li&nbsp;=&nbsp;0.66&nbsp;ft, alias: li</li>\n",
       "<li>metre (20 prefixes), symbol: m, aliases: m, meter</li>\n",
       "<li>mile, 1&nbsp;mi&nbsp;=&nbsp;1760&nbsp;yd, alias: mi</li>\n",
       "<li>nautical mile, 1&nbsp;M&nbsp;=&nbsp;1852&nbsp;m, aliases: M, Nm, NM, nmi</li>\n",
       "<li>parsec (3 prefixes), 1&nbsp;pc&nbsp;=&nbsp;206&thinsp;264.806&thinsp;247&thinsp;096&thinsp;36&nbsp;au, alias: pc</li>\n",
       "<li>pica, 1&nbsp;P/&nbsp;=&nbsp;1/6&nbsp;in, alias: P/</li>\n",
       "<li>Planck length, 1&nbsp;<i>l</i><sub>P</sub>&nbsp;=&nbsp;<span>1.616&thinsp;228(38) &times; 10<sup>-35</sup>&nbsp;m</span>, alias: l(P)</li>\n",
       "<li>point, 1&nbsp;p&nbsp;=&nbsp;1/12&nbsp;P/, alias: p</li>\n",
       "<li>rack unit, 1&nbsp;U&nbsp;=&nbsp;1.75&nbsp;in</li>\n",
       "<li>reduced compton wavelength, 1&nbsp;ƛ<sub>C</sub>&nbsp;=&nbsp;1&nbsp;ℏ/(<i>m</i><sub>e</sub>&thinsp;<i>c</i>), aliases: lambda(C), ƛ(C)</li>\n",
       "<li>rod, 1&nbsp;rd&nbsp;=&nbsp;25&nbsp;ft, alias: rd</li>\n",
       "<li>siriometer, 1&nbsp;Sm&nbsp;=&nbsp;1&thinsp;000&thinsp;000&nbsp;au</li>\n",
       "<li>survey foot, 1&nbsp;ft&nbsp;=&nbsp;1200/3937&nbsp;m</li>\n",
       "<li>survey mile, 1&nbsp;mi&nbsp;=&nbsp;8&nbsp;fur, alias: statute mile</li>\n",
       "<li>thousandth of an inch, 1&nbsp;mil&nbsp;=&nbsp;0.001&nbsp;in, aliases: mil, thou, thousandth</li>\n",
       "<li>yard, 1&nbsp;yd&nbsp;=&nbsp;3&nbsp;ft, alias: yd</li></ul>"
      ],
      "text/plain": [
       "<IPython.core.display.HTML object>"
      ]
     },
     "metadata": {},
     "output_type": "display_data"
    }
   ],
   "source": [
    "uc.search_units('length',fmt='html')\n",
    "# uc.search_units() with no argument displays all loaded units"
   ]
  },
  {
   "cell_type": "markdown",
   "metadata": {},
   "source": [
    "You can also create custom units.  Creating an instance of the Unit class automatically loads the unit definition into the unit library so it can be accessed by its string name.  The Unit class has two required parameters, the unit name and the unit symbol.  "
   ]
  },
  {
   "cell_type": "code",
   "execution_count": 32,
   "metadata": {
    "collapsed": false
   },
   "outputs": [
    {
     "data": {
      "text/html": [
       "wm"
      ],
      "text/plain": [
       "wm"
      ]
     },
     "execution_count": 32,
     "metadata": {},
     "output_type": "execute_result"
    }
   ],
   "source": [
    "uc.Unit('weird meter','wm',conversion=uc.Conversion('m',0.9144),add_symbol=True)"
   ]
  },
  {
   "cell_type": "markdown",
   "metadata": {},
   "source": [
    "The optional conversion defines a unit conversion, in this case 1 wm = 0.9144 m.  Because add_symbol was set to True when creating the unit, we can access the unit using its symbol 'wm' as well as by its name '[weird meter]' ( the brackets are required because there is a space in the name):"
   ]
  },
  {
   "cell_type": "code",
   "execution_count": 33,
   "metadata": {
    "collapsed": false
   },
   "outputs": [
    {
     "data": {
      "text/html": [
       "1&nbsp;wm"
      ],
      "text/plain": [
       "1 wm"
      ]
     },
     "execution_count": 33,
     "metadata": {},
     "output_type": "execute_result"
    }
   ],
   "source": [
    "w = uc.gummy(1,unit='wm')\n",
    "w"
   ]
  },
  {
   "cell_type": "code",
   "execution_count": 34,
   "metadata": {
    "collapsed": false
   },
   "outputs": [
    {
     "data": {
      "text/html": [
       "0.9144&nbsp;m"
      ],
      "text/plain": [
       "0.9144 m"
      ]
     },
     "execution_count": 34,
     "metadata": {},
     "output_type": "execute_result"
    }
   ],
   "source": [
    "w.convert('m')"
   ]
  },
  {
   "cell_type": "markdown",
   "metadata": {},
   "source": [
    "### applying numerical functions to gummys\n",
    "\n",
    "A number of mathematical functions that can be used with gummys are included with the gummy package:"
   ]
  },
  {
   "cell_type": "code",
   "execution_count": 35,
   "metadata": {
    "collapsed": false
   },
   "outputs": [
    {
     "data": {
      "text/html": [
       "<span>0.9435(73)</span>"
      ],
      "text/plain": [
       "0.9435(73)"
      ]
     },
     "execution_count": 35,
     "metadata": {},
     "output_type": "execute_result"
    }
   ],
   "source": [
    "a = uc.gummy(1.233,0.022)\n",
    "uc.sin(a)"
   ]
  },
  {
   "cell_type": "markdown",
   "metadata": {},
   "source": [
    "Many NumPy functions can also be used with gummys (however this only works with NumPy version 1.13 or later):"
   ]
  },
  {
   "cell_type": "code",
   "execution_count": 36,
   "metadata": {
    "collapsed": false
   },
   "outputs": [
    {
     "data": {
      "text/html": [
       "<span>0.9435(73)</span>"
      ],
      "text/plain": [
       "0.9435(73)"
      ]
     },
     "execution_count": 36,
     "metadata": {},
     "output_type": "execute_result"
    }
   ],
   "source": [
    "import numpy as np\n",
    "np.sin(a)"
   ]
  },
  {
   "cell_type": "markdown",
   "metadata": {},
   "source": [
    "The `apply` static method can also be used to apply a arbitrary numerical function to a gummy or several gummys.  The apply method takes as its first parameter the function, which must take one or more float parameters and return a float or list or numpy.ndarray of floats.  The second parameter is another function which gives the derivative of the first function.  The remaining parameters are the gummy(s) or float(s) to which the function will be applied.  We also demonstrate here that gummy can be used with the mpmath package to work with extended precision floating point types:"
   ]
  },
  {
   "cell_type": "code",
   "execution_count": 37,
   "metadata": {
    "collapsed": false
   },
   "outputs": [
    {
     "data": {
      "text/html": [
       "<span>0.327&thinsp;194&thinsp;696&thinsp;796&thinsp;152&thinsp;244&thinsp;173&thinsp;344&thinsp;085&thinsp;267&thinsp;620&thinsp;606&thinsp;064&thinsp;301&thinsp;406&thinsp;89(21)</span>"
      ],
      "text/plain": [
       "0.327 194 696 796 152 244 173 344 085 267 620 606 064 301 406 89(21)"
      ]
     },
     "execution_count": 37,
     "metadata": {},
     "output_type": "execute_result"
    }
   ],
   "source": [
    "from mpmath import sin, cos, mpf, mp\n",
    "\n",
    "mp.dps = 50\n",
    "# set mpmath to a precision of 50 digits\n",
    "\n",
    "uc.gummy.max_digits = 50\n",
    "# by default gummy doesn't display more than 15 digits;\n",
    "# this option does not affect the working precision only \n",
    "# the display\n",
    "\n",
    "a = uc.gummy(mpf('1/3'),mpf('2.2e-45'))\n",
    "\n",
    "uc.gummy.apply(sin,cos,a)"
   ]
  },
  {
   "cell_type": "markdown",
   "metadata": {},
   "source": [
    "The napply static method is similar to the apply method except that the derivatives are calculated numerically and do not need to be applied:"
   ]
  },
  {
   "cell_type": "code",
   "execution_count": 38,
   "metadata": {
    "collapsed": false
   },
   "outputs": [
    {
     "data": {
      "text/html": [
       "<span>0.327&thinsp;194&thinsp;696&thinsp;796&thinsp;152&thinsp;244&thinsp;173&thinsp;344&thinsp;085&thinsp;267&thinsp;620&thinsp;606&thinsp;064&thinsp;301&thinsp;406&thinsp;89(21)</span>"
      ],
      "text/plain": [
       "0.327 194 696 796 152 244 173 344 085 267 620 606 064 301 406 89(21)"
      ]
     },
     "execution_count": 38,
     "metadata": {},
     "output_type": "execute_result"
    }
   ],
   "source": [
    "uc.gummy.napply(sin,a)"
   ]
  },
  {
   "cell_type": "markdown",
   "metadata": {},
   "source": [
    "### curve fitting"
   ]
  },
  {
   "cell_type": "markdown",
   "metadata": {},
   "source": [
    "The gummy package also includes several classes for fitting functions, for example:"
   ]
  },
  {
   "cell_type": "code",
   "execution_count": 39,
   "metadata": {
    "collapsed": false
   },
   "outputs": [
    {
     "data": {
      "text/html": [
       "<i>y</i> = <i>p</i><sub>1</sub> + <i>p</i><sub>2</sub> <i>x</i> + <i>p</i><sub>3</sub> <i>x</i><sup>2</sup><br><br>best fit parameters:<br><i>p</i><sub>1</sub> = <span>1.7(19)&nbsp;m</span><br><i>p</i><sub>2</sub> = <span>-1.9(20)&nbsp;m/s</span><br><i>p</i><sub>3</sub> = <span>1.37(43)&nbsp;m/s<sup>2</sup></span><br>"
      ],
      "text/plain": [
       "y = p(1) + p(2)*x + p(3)*x**2\n",
       "\n",
       "best fit parameters:\n",
       "p(1) = 1.7(19) m\n",
       "p(2) = -1.9(20) m/s\n",
       "p(3) = 1.37(43) m/s²"
      ]
     },
     "execution_count": 39,
     "metadata": {},
     "output_type": "execute_result"
    }
   ],
   "source": [
    "y0 = uc.gummy(0.11,2.2,unit='m')\n",
    "y1 = uc.gummy(2.12,1.2,unit='m')\n",
    "y2 = uc.gummy(3.02,1.3,unit='m')\n",
    "y3 = uc.gummy(5.55,2.3,unit='m')\n",
    "y4 = uc.gummy(16.22,1.2,unit='m')\n",
    "\n",
    "fit = uc.PolyFit([0,1,2,3,4],[y0,y1,y2,y3,y4],deg=2,xunit='s')\n",
    "fit"
   ]
  },
  {
   "cell_type": "markdown",
   "metadata": {},
   "source": [
    "We can plot the fit along with the standard uncertainty in the fit at any point:"
   ]
  },
  {
   "cell_type": "code",
   "execution_count": 40,
   "metadata": {
    "collapsed": false
   },
   "outputs": [
    {
     "data": {
      "image/png": "[encoded data removed]",
      "text/plain": [
       "<matplotlib.figure.Figure at 0x16ffcc50>"
      ]
     },
     "metadata": {},
     "output_type": "display_data"
    }
   ],
   "source": [
    "fit.plot(cik=1,xlabel='time',ylabel=distance)  \n",
    "# cik is the coverage factor for the fit uncertainty band,\n",
    "# alterately the cip parameter can be set to give a\n",
    "# probability level for the band"
   ]
  },
  {
   "cell_type": "markdown",
   "metadata": {},
   "source": [
    "gummy keeps track of the correlation between the fit parameters:"
   ]
  },
  {
   "cell_type": "code",
   "execution_count": 41,
   "metadata": {
    "collapsed": false
   },
   "outputs": [
    {
     "data": {
      "text/plain": [
       "array([[ 1.        , -0.87008433,  0.76175667],\n",
       "       [-0.87008433,  1.        , -0.97186893],\n",
       "       [ 0.76175667, -0.97186893,  1.        ]])"
      ]
     },
     "execution_count": 41,
     "metadata": {},
     "output_type": "execute_result"
    }
   ],
   "source": [
    "uc.gummy.correlation_matrix(fit.p)"
   ]
  },
  {
   "cell_type": "code",
   "execution_count": 42,
   "metadata": {
    "collapsed": false
   },
   "outputs": [
    {
     "data": {
      "text/plain": [
       "array([[ 3.62156836, -3.35363548,  0.62426861],\n",
       "       [-3.35363548,  4.1021575 , -0.84765818],\n",
       "       [ 0.62426861, -0.84765818,  0.18544442]])"
      ]
     },
     "execution_count": 42,
     "metadata": {},
     "output_type": "execute_result"
    }
   ],
   "source": [
    "uc.gummy.covariance_matrix(fit.p)"
   ]
  },
  {
   "cell_type": "markdown",
   "metadata": {},
   "source": [
    "### creating correlated gummys"
   ]
  },
  {
   "cell_type": "markdown",
   "metadata": {},
   "source": [
    "Use the create static method to generate a list of correlated gummys:"
   ]
  },
  {
   "cell_type": "code",
   "execution_count": 43,
   "metadata": {
    "collapsed": false
   },
   "outputs": [
    {
     "data": {
      "text/plain": [
       "[1.10(30), 2.20(10), 3.30(40)]"
      ]
     },
     "execution_count": 43,
     "metadata": {},
     "output_type": "execute_result"
    }
   ],
   "source": [
    "g = uc.gummy.create([1.1,2.2,3.3],u=[0.3,0.1,0.4],correlation_matrix=[[1,0,0.5],[0,1,0],[0.5,0,1]])\n",
    "g"
   ]
  },
  {
   "cell_type": "code",
   "execution_count": 44,
   "metadata": {
    "collapsed": false
   },
   "outputs": [
    {
     "data": {
      "text/plain": [
       "0.059999999999999998"
      ]
     },
     "execution_count": 44,
     "metadata": {},
     "output_type": "execute_result"
    }
   ],
   "source": [
    "g[0].covariance(g[2])"
   ]
  },
  {
   "cell_type": "markdown",
   "metadata": {},
   "source": [
    "Note that mathematical operations between gummys will also create correlations between the input and output gummys."
   ]
  },
  {
   "cell_type": "markdown",
   "metadata": {},
   "source": [
    "### formatting"
   ]
  },
  {
   "cell_type": "markdown",
   "metadata": {},
   "source": [
    "By default in a Jupyter notebook, gummy output is rendered using HTML:"
   ]
  },
  {
   "cell_type": "code",
   "execution_count": 45,
   "metadata": {
    "collapsed": false
   },
   "outputs": [
    {
     "data": {
      "text/html": [
       "<span>1.37(43)&nbsp;m/s<sup>2</sup></span>"
      ],
      "text/plain": [
       "1.37(43) m/s²"
      ]
     },
     "execution_count": 45,
     "metadata": {},
     "output_type": "execute_result"
    }
   ],
   "source": [
    "acceleration = fit.p[2]\n",
    "acceleration"
   ]
  },
  {
   "cell_type": "markdown",
   "metadata": {},
   "source": [
    "But they can also be displayed using LaTeX:"
   ]
  },
  {
   "cell_type": "code",
   "execution_count": 46,
   "metadata": {
    "collapsed": false
   },
   "outputs": [
    {
     "data": {
      "text/latex": [
       "$$ 1.37(43)\\:\\mathrm{m}/\\mathrm{s}^{2} $$"
      ],
      "text/plain": [
       "<IPython.core.display.Math object>"
      ]
     },
     "metadata": {},
     "output_type": "display_data"
    }
   ],
   "source": [
    "acceleration.latex()"
   ]
  },
  {
   "cell_type": "markdown",
   "metadata": {},
   "source": [
    "The latex() method is like a print command but rendering the output with LaTeX.  There is also a html() method.  Output can also be printed using only ASCII or unicode characters:"
   ]
  },
  {
   "cell_type": "code",
   "execution_count": 47,
   "metadata": {
    "collapsed": false
   },
   "outputs": [
    {
     "name": "stdout",
     "output_type": "stream",
     "text": [
      "1.37(43) m/s**2\n"
     ]
    }
   ],
   "source": [
    "acceleration.ascii()"
   ]
  },
  {
   "cell_type": "code",
   "execution_count": 48,
   "metadata": {
    "collapsed": false
   },
   "outputs": [
    {
     "name": "stdout",
     "output_type": "stream",
     "text": [
      "1.37(43) m/s²\n"
     ]
    }
   ],
   "source": [
    "acceleration.unicode()"
   ]
  },
  {
   "cell_type": "markdown",
   "metadata": {},
   "source": [
    "Use the tolatex() or tohtml() methods to get a string with the LaTeX or HTML encoding for the gummy."
   ]
  },
  {
   "cell_type": "code",
   "execution_count": 49,
   "metadata": {
    "collapsed": false
   },
   "outputs": [
    {
     "data": {
      "text/plain": [
       "'1.37(43)\\\\:\\\\mathrm{m}/\\\\mathrm{s}^{2}'"
      ]
     },
     "execution_count": 49,
     "metadata": {},
     "output_type": "execute_result"
    }
   ],
   "source": [
    "acceleration.tolatex()"
   ]
  },
  {
   "cell_type": "code",
   "execution_count": 50,
   "metadata": {
    "collapsed": false
   },
   "outputs": [
    {
     "data": {
      "text/plain": [
       "'<span>1.37(43)&nbsp;m/s<sup>2</sup></span>'"
      ]
     },
     "execution_count": 50,
     "metadata": {},
     "output_type": "execute_result"
    }
   ],
   "source": [
    "acceleration.tohtml()"
   ]
  },
  {
   "cell_type": "markdown",
   "metadata": {},
   "source": [
    "It is also possible to change the default output to LaTeX:"
   ]
  },
  {
   "cell_type": "code",
   "execution_count": 51,
   "metadata": {
    "collapsed": false
   },
   "outputs": [
    {
     "data": {
      "text/latex": [
       "$ 1.37(43)\\:\\mathrm{m}/\\mathrm{s}^{2} $"
      ],
      "text/plain": [
       "1.37(43) m/s²"
      ]
     },
     "execution_count": 51,
     "metadata": {},
     "output_type": "execute_result"
    }
   ],
   "source": [
    "uc.gummy.printer = 'latex'\n",
    "acceleration"
   ]
  },
  {
   "cell_type": "markdown",
   "metadata": {},
   "source": [
    "or unicode:"
   ]
  },
  {
   "cell_type": "code",
   "execution_count": 52,
   "metadata": {
    "collapsed": false
   },
   "outputs": [
    {
     "data": {
      "text/plain": [
       "1.37(43) m/s²"
      ]
     },
     "execution_count": 52,
     "metadata": {},
     "output_type": "execute_result"
    }
   ],
   "source": [
    "uc.gummy.printer = 'unicode'\n",
    "acceleration"
   ]
  },
  {
   "cell_type": "markdown",
   "metadata": {},
   "source": [
    "or output using only ASCII characters:"
   ]
  },
  {
   "cell_type": "code",
   "execution_count": 53,
   "metadata": {
    "collapsed": false
   },
   "outputs": [
    {
     "data": {
      "text/plain": [
       "1.37(43) m/s**2"
      ]
     },
     "execution_count": 53,
     "metadata": {},
     "output_type": "execute_result"
    }
   ],
   "source": [
    "uc.gummy.printer = 'ascii'\n",
    "acceleration"
   ]
  },
  {
   "cell_type": "markdown",
   "metadata": {},
   "source": [
    "or back to HTML:"
   ]
  },
  {
   "cell_type": "code",
   "execution_count": 54,
   "metadata": {
    "collapsed": false
   },
   "outputs": [
    {
     "data": {
      "text/html": [
       "<span>1.37(43)&nbsp;m/s<sup>2</sup></span>"
      ],
      "text/plain": [
       "1.37(43) m/s²"
      ]
     },
     "execution_count": 54,
     "metadata": {},
     "output_type": "execute_result"
    }
   ],
   "source": [
    "uc.gummy.printer = 'html'\n",
    "acceleration"
   ]
  },
  {
   "cell_type": "markdown",
   "metadata": {},
   "source": [
    "Uncertainty budgets and fits can also be rendered using LaTeX:"
   ]
  },
  {
   "cell_type": "code",
   "execution_count": 55,
   "metadata": {
    "collapsed": false
   },
   "outputs": [
    {
     "data": {
      "text/latex": [
       "$$ \\begin{array}{ c c c c c c }\n",
       "\\text{Component} & \\text{Unit} & \\text{Value} & u\\,/\\,\\mathrm{\\%} & \\left\\lvert\\frac{\\partial y}{\\partial x} \\right\\rvert & s \\\\\n",
       "\\hline\n",
       "\\text{Force} & \\mathrm{N} & 0.934 & 5.9 & 27 & 0.70 \\\\\n",
       "\\text{Side B} & \\mathrm{mm} & 3.03 & 5.7 & 8.2 & 0.68 \\\\\n",
       "\\text{Side A} & \\mathrm{cm} & 1.234 & 1.9 & 20 & 0.22 \\\\\n",
       "\\hline\n",
       "P & \\mathrm{kPa} & 25.0 & 2.1 &  &  \\\\\n",
       "\\hline\n",
       "U_c \\text{ at } k = 2.0 & \\mathrm{kPa} &  & 17 &  &  \\\\\n",
       "\\end{array} $$"
      ],
      "text/plain": [
       "<IPython.core.display.Math object>"
      ]
     },
     "metadata": {},
     "output_type": "display_data"
    }
   ],
   "source": [
    "budget = pressure.budget([side_a,side_b,force],uunit='%')\n",
    "budget.latex()"
   ]
  },
  {
   "cell_type": "code",
   "execution_count": 56,
   "metadata": {
    "collapsed": false
   },
   "outputs": [
    {
     "data": {
      "text/plain": [
       "'\\\\begin{array}{ c c c c c c }\\n\\\\text{Component} & \\\\text{Unit} & \\\\text{Value} & u\\\\,/\\\\,\\\\mathrm{\\\\%} & \\\\left\\\\lvert\\\\frac{\\\\partial y}{\\\\partial x} \\\\right\\\\rvert & s \\\\\\\\\\n\\\\hline\\n\\\\text{Force} & \\\\mathrm{N} & 0.934 & 5.9 & 27 & 0.70 \\\\\\\\\\n\\\\text{Side B} & \\\\mathrm{mm} & 3.03 & 5.7 & 8.2 & 0.68 \\\\\\\\\\n\\\\text{Side A} & \\\\mathrm{cm} & 1.234 & 1.9 & 20 & 0.22 \\\\\\\\\\n\\\\hline\\nP & \\\\mathrm{kPa} & 25.0 & 2.1 &  &  \\\\\\\\\\n\\\\hline\\nU_c \\\\text{ at } k = 2.0 & \\\\mathrm{kPa} &  & 17 &  &  \\\\\\\\\\n\\\\end{array}'"
      ]
     },
     "execution_count": 56,
     "metadata": {},
     "output_type": "execute_result"
    }
   ],
   "source": [
    "budget.tolatex()"
   ]
  },
  {
   "cell_type": "markdown",
   "metadata": {},
   "source": [
    "As can the ouput of the fit from the curve fitting section:"
   ]
  },
  {
   "cell_type": "code",
   "execution_count": 57,
   "metadata": {
    "collapsed": false
   },
   "outputs": [
    {
     "data": {
      "text/latex": [
       "$$ y = p_{1} + p_{2} x + p_{3} x^{2} \\\\[10pt]\\text{best fit parameters:}\\\\\\begin{align}p_{1} &= 1.7(19)\\:\\mathrm{m}\\\\p_{2} &= -1.9(20)\\:\\mathrm{m}/\\mathrm{s}\\\\p_{3} &= 1.37(43)\\:\\mathrm{m}/\\mathrm{s}^{2}\\\\\\end{align}$$"
      ],
      "text/plain": [
       "<IPython.core.display.Math object>"
      ]
     },
     "metadata": {},
     "output_type": "display_data"
    }
   ],
   "source": [
    "fit.latex()"
   ]
  },
  {
   "cell_type": "markdown",
   "metadata": {},
   "source": [
    "### floating point rounding errors\n",
    "\n",
    "The gummy object has a setting to automatically include uncertainty due to floating point rounding errors:"
   ]
  },
  {
   "cell_type": "code",
   "execution_count": 58,
   "metadata": {
    "collapsed": false
   },
   "outputs": [
    {
     "data": {
      "text/html": [
       "<span>1.229&thinsp;999&thinsp;999&thinsp;999&thinsp;999&thinsp;982(58)</span>"
      ],
      "text/plain": [
       "1.229 999 999 999 999 982(58)"
      ]
     },
     "execution_count": 58,
     "metadata": {},
     "output_type": "execute_result"
    }
   ],
   "source": [
    "uc.gummy.rounding_u = True\n",
    "\n",
    "uc.gummy(1.23)"
   ]
  },
  {
   "cell_type": "code",
   "execution_count": 59,
   "metadata": {
    "collapsed": false,
    "scrolled": true
   },
   "outputs": [
    {
     "data": {
      "text/html": [
       "<span>0.333&thinsp;333&thinsp;343&thinsp;3(84)</span>"
      ],
      "text/plain": [
       "0.333 333 343 3(84)"
      ]
     },
     "execution_count": 59,
     "metadata": {},
     "output_type": "execute_result"
    }
   ],
   "source": [
    "uc.gummy(np.float32(1/3))"
   ]
  },
  {
   "cell_type": "code",
   "execution_count": 60,
   "metadata": {
    "collapsed": false,
    "scrolled": true
   },
   "outputs": [
    {
     "data": {
      "text/html": [
       "<span>1.021(22) &times; 10<sup>-14</sup></span>"
      ],
      "text/plain": [
       "1.021(22)e-14"
      ]
     },
     "execution_count": 60,
     "metadata": {},
     "output_type": "execute_result"
    }
   ],
   "source": [
    "uc.gummy(3.30000000000001) - uc.gummy(3.3)"
   ]
  },
  {
   "cell_type": "markdown",
   "metadata": {},
   "source": [
    "The `rounding_u` option simply adds and an uncertainty proportional to the machine epsilon whenever a gummy is created with a floating point data type and then propagates this uncertainty like any other uncertainty.  This feature is experimental and perhaps can give some idea of the magnitude of the floating point errors, but is not a substitute for a full numerical error analysis.\n",
    "\n",
    "The gummy object recognizes that integer and Faction values do not need an uncertainty component to account for rounding:"
   ]
  },
  {
   "cell_type": "code",
   "execution_count": 61,
   "metadata": {
    "collapsed": false
   },
   "outputs": [
    {
     "data": {
      "text/html": [
       "3"
      ],
      "text/plain": [
       "3"
      ]
     },
     "execution_count": 61,
     "metadata": {},
     "output_type": "execute_result"
    }
   ],
   "source": [
    "uc.gummy(3)"
   ]
  },
  {
   "cell_type": "code",
   "execution_count": 62,
   "metadata": {
    "collapsed": false
   },
   "outputs": [
    {
     "data": {
      "text/html": [
       "1/3"
      ],
      "text/plain": [
       "1/3"
      ]
     },
     "execution_count": 62,
     "metadata": {},
     "output_type": "execute_result"
    }
   ],
   "source": [
    "from fractions import Fraction\n",
    "uc.gummy(Fraction(1,3))"
   ]
  },
  {
   "cell_type": "code",
   "execution_count": 63,
   "metadata": {
    "collapsed": false
   },
   "outputs": [
    {
     "data": {
      "text/html": [
       "3/7"
      ],
      "text/plain": [
       "3/7"
      ]
     },
     "execution_count": 63,
     "metadata": {},
     "output_type": "execute_result"
    }
   ],
   "source": [
    "uc.gummy(3)/uc.gummy(7)"
   ]
  },
  {
   "cell_type": "markdown",
   "metadata": {},
   "source": [
    "<footer id=\"attribution\" style=\"float:right; color:#999; background:#fff;\">\n",
    "&copy; Copyright 2019, National Research Council Canada\n",
    "</footer>"
   ]
  }
 ],
 "metadata": {
  "kernelspec": {
   "display_name": "Python 3",
   "language": "python",
   "name": "python3"
  },
  "language_info": {
   "codemirror_mode": {
    "name": "ipython",
    "version": 3
   },
   "file_extension": ".py",
   "mimetype": "text/x-python",
   "name": "python",
   "nbconvert_exporter": "python",
   "pygments_lexer": "ipython3",
   "version": "3.6.0"
  },
  "toc": {
   "base_numbering": 1,
   "nav_menu": {},
   "number_sections": false,
   "sideBar": true,
   "skip_h1_title": true,
   "title_cell": "Table of Contents",
   "title_sidebar": "Contents",
   "toc_cell": false,
   "toc_position": {},
   "toc_section_display": true,
   "toc_window_display": false
  }
 },
 "nbformat": 4,
 "nbformat_minor": 2
}
